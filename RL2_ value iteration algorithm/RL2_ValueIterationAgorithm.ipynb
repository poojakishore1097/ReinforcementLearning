{
  "cells": [
    {
      "attachments": {},
      "cell_type": "markdown",
      "metadata": {
        "id": "H7rDN8agZoFq"
      },
      "source": [
        "Implementation of value iteration algorithm"
      ]
    },
    {
      "cell_type": "markdown",
      "metadata": {
        "id": "CYqH3Dv_piG5"
      },
      "source": [
        "Consider a 4 x 4 grid as shown in Figure 1. The start state is located at the bottom left, and the target\n",
        "states are (0, 3) and (3,3) with a reward of +2 and -2. All other states have a -1 reward. Possible actions\n",
        "of MDP are to move left, right, up, or down. Assume the environment is stochastic. The transition\n",
        "probabilities are shown in Figure 1.\n"
      ]
    },
    {
      "cell_type": "markdown",
      "metadata": {
        "id": "lyNQbzcEqNWI"
      },
      "source": [
        "![RL_lab2.PNG](data:image/png;base64,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)"
      ]
    },
    {
      "cell_type": "markdown",
      "metadata": {
        "id": "QOeeGpWeqSZJ"
      },
      "source": [
        "**Import Libraries**"
      ]
    },
    {
      "cell_type": "code",
      "execution_count": null,
      "metadata": {
        "id": "Wql2yJHtY3HF"
      },
      "outputs": [],
      "source": [
        "import numpy as np"
      ]
    },
    {
      "cell_type": "markdown",
      "metadata": {
        "id": "OXDDeCcWZZHF"
      },
      "source": [
        "**Initial**"
      ]
    },
    {
      "cell_type": "code",
      "execution_count": null,
      "metadata": {
        "id": "M2kADdSMZYkv"
      },
      "outputs": [],
      "source": [
        "small_enough = 0.005\n",
        "gamma = 0.9         \n",
        "noise = 0.1  \n",
        "#Define all states\n",
        "all_states=[]\n",
        "for i in range(4):\n",
        "    for j in range(4):\n",
        "            all_states.append((i,j))"
      ]
    },
    {
      "cell_type": "code",
      "execution_count": null,
      "metadata": {
        "colab": {
          "base_uri": "https://localhost:8080/"
        },
        "id": "W1vYLTsVNGRP",
        "outputId": "0d3ffeca-7ab5-4be7-c4b6-bef81f03f7da"
      },
      "outputs": [
        {
          "data": {
            "text/plain": [
              "[(0, 0),\n",
              " (0, 1),\n",
              " (0, 2),\n",
              " (0, 3),\n",
              " (1, 0),\n",
              " (1, 1),\n",
              " (1, 2),\n",
              " (1, 3),\n",
              " (2, 0),\n",
              " (2, 1),\n",
              " (2, 2),\n",
              " (2, 3),\n",
              " (3, 0),\n",
              " (3, 1),\n",
              " (3, 2),\n",
              " (3, 3)]"
            ]
          },
          "execution_count": 38,
          "metadata": {},
          "output_type": "execute_result"
        }
      ],
      "source": [
        "all_states"
      ]
    },
    {
      "cell_type": "code",
      "execution_count": null,
      "metadata": {
        "id": "XB9LzVmA6o0b"
      },
      "outputs": [],
      "source": [
        "#Rewards for each\n",
        "rewards = {}\n",
        "for state in all_states:\n",
        "    if state == (0,3):\n",
        "        rewards[state] = +2\n",
        "    elif state == (3,3):\n",
        "        rewards[state] = -2\n",
        "    elif state == (2,2):\n",
        "        rewards[state] = 0\n",
        "    else:\n",
        "        rewards[state] =-1\n"
      ]
    },
    {
      "cell_type": "code",
      "execution_count": null,
      "metadata": {
        "colab": {
          "base_uri": "https://localhost:8080/"
        },
        "id": "E564DUpz6_UR",
        "outputId": "72f980fe-de91-44db-bb5d-93ba94d5acdf"
      },
      "outputs": [
        {
          "data": {
            "text/plain": [
              "{(0, 0): -1,\n",
              " (0, 1): -1,\n",
              " (0, 2): -1,\n",
              " (0, 3): 2,\n",
              " (1, 0): -1,\n",
              " (1, 1): -1,\n",
              " (1, 2): -1,\n",
              " (1, 3): -1,\n",
              " (2, 0): -1,\n",
              " (2, 1): -1,\n",
              " (2, 2): 0,\n",
              " (2, 3): -1,\n",
              " (3, 0): -1,\n",
              " (3, 1): -1,\n",
              " (3, 2): -1,\n",
              " (3, 3): -2}"
            ]
          },
          "execution_count": 40,
          "metadata": {},
          "output_type": "execute_result"
        }
      ],
      "source": [
        "rewards"
      ]
    },
    {
      "cell_type": "code",
      "execution_count": null,
      "metadata": {
        "id": "LNYVWpJe6tFB"
      },
      "outputs": [],
      "source": [
        "#Possible actions\n",
        "actions = {\n",
        "    (0,0):('U', 'R'), \n",
        "    (0,1):('U', 'R', 'L'),    \n",
        "    (0,2):('U', 'L', 'R'),\n",
        "    (0,3):('U', 'L'),\n",
        "    (1,0):('D', 'U', 'R'),\n",
        "    (1,1):('D', 'R', 'L', 'U'),\n",
        "    (1,2):('D', 'L', 'R'),\n",
        "    (1,3):('U', 'L', 'D'),\n",
        "    (2,0):('U', 'D', 'R'),\n",
        "    (2,1):('U', 'D', 'L'),\n",
        "    (2,3):('U', 'D'),\n",
        "    (3,0):('D', 'R'),\n",
        "    (3,1):('L', 'D', 'R'),\n",
        "    (3,2):('L', 'R'),\n",
        "    (3,3):('D', 'L'),\n",
        "    }"
      ]
    },
    {
      "cell_type": "code",
      "execution_count": null,
      "metadata": {
        "colab": {
          "base_uri": "https://localhost:8080/"
        },
        "id": "TvK7XScs6xRw",
        "outputId": "b091c477-6e25-4561-b540-837c85f86b35"
      },
      "outputs": [
        {
          "data": {
            "text/plain": [
              "{(0, 0): ('U', 'R'),\n",
              " (0, 1): ('U', 'R', 'L'),\n",
              " (0, 2): ('U', 'L', 'R'),\n",
              " (0, 3): ('U', 'L'),\n",
              " (1, 0): ('D', 'U', 'R'),\n",
              " (1, 1): ('D', 'R', 'L', 'U'),\n",
              " (1, 2): ('D', 'L', 'R'),\n",
              " (1, 3): ('U', 'L', 'D'),\n",
              " (2, 0): ('U', 'D', 'R'),\n",
              " (2, 1): ('U', 'D', 'L'),\n",
              " (2, 3): ('U', 'D'),\n",
              " (3, 0): ('D', 'R'),\n",
              " (3, 1): ('L', 'D', 'R'),\n",
              " (3, 2): ('L', 'R'),\n",
              " (3, 3): ('D', 'L')}"
            ]
          },
          "execution_count": 42,
          "metadata": {},
          "output_type": "execute_result"
        }
      ],
      "source": [
        "actions"
      ]
    },
    {
      "cell_type": "code",
      "execution_count": null,
      "metadata": {
        "id": "DdI6U7reCH4f"
      },
      "outputs": [],
      "source": [
        "#initial policy\n",
        "policy={}\n",
        "for action in actions.keys():\n",
        "    policy[action] = np.random.choice(actions[action])"
      ]
    },
    {
      "cell_type": "code",
      "execution_count": null,
      "metadata": {
        "colab": {
          "base_uri": "https://localhost:8080/"
        },
        "id": "PPJ0zOJXB8AR",
        "outputId": "e17bda6e-7c3b-4530-a37e-6ed3ad5f40f2"
      },
      "outputs": [
        {
          "data": {
            "text/plain": [
              "{(0, 0): 'R',\n",
              " (0, 1): 'R',\n",
              " (0, 2): 'L',\n",
              " (0, 3): 'U',\n",
              " (1, 0): 'R',\n",
              " (1, 1): 'U',\n",
              " (1, 2): 'D',\n",
              " (1, 3): 'D',\n",
              " (2, 0): 'R',\n",
              " (2, 1): 'L',\n",
              " (2, 3): 'U',\n",
              " (3, 0): 'R',\n",
              " (3, 1): 'R',\n",
              " (3, 2): 'L',\n",
              " (3, 3): 'D'}"
            ]
          },
          "execution_count": 44,
          "metadata": {},
          "output_type": "execute_result"
        }
      ],
      "source": [
        "policy"
      ]
    },
    {
      "cell_type": "code",
      "execution_count": null,
      "metadata": {
        "id": "c9qliXBU60jG"
      },
      "outputs": [],
      "source": [
        "#Define initial value function \n",
        "value={}\n",
        "for state in all_states:\n",
        "    if state in actions.keys():\n",
        "        value[state] = -1\n",
        "    if state ==(0,3):\n",
        "        value[state]= +2\n",
        "    if state == (2,2):\n",
        "       value[state]= 0    \n",
        "    if state == (3,3):\n",
        "        value[state]=-2\n",
        "    \n"
      ]
    },
    {
      "cell_type": "code",
      "execution_count": null,
      "metadata": {
        "colab": {
          "base_uri": "https://localhost:8080/"
        },
        "id": "y0nzv4WK7JVg",
        "outputId": "7d581088-b450-4118-ab77-cbefa5dd9447"
      },
      "outputs": [
        {
          "data": {
            "text/plain": [
              "{(0, 0): -1,\n",
              " (0, 1): -1,\n",
              " (0, 2): -1,\n",
              " (0, 3): 2,\n",
              " (1, 0): -1,\n",
              " (1, 1): -1,\n",
              " (1, 2): -1,\n",
              " (1, 3): -1,\n",
              " (2, 0): -1,\n",
              " (2, 1): -1,\n",
              " (2, 2): 0,\n",
              " (2, 3): -1,\n",
              " (3, 0): -1,\n",
              " (3, 1): -1,\n",
              " (3, 2): -1,\n",
              " (3, 3): -2}"
            ]
          },
          "execution_count": 46,
          "metadata": {},
          "output_type": "execute_result"
        }
      ],
      "source": [
        "value"
      ]
    },
    {
      "cell_type": "markdown",
      "metadata": {
        "id": "5FKeydW-tuGB"
      },
      "source": [
        "**a. Implement value iteration algorithm to find the optimal policy**"
      ]
    },
    {
      "cell_type": "code",
      "execution_count": null,
      "metadata": {
        "id": "ml0Kkpu1nHyw"
      },
      "outputs": [],
      "source": [
        "iteration = 0\n",
        "while True:\n",
        "    biggest_change = 0\n",
        "    for state in all_states:            \n",
        "        if state in policy:\n",
        "            \n",
        "            previous_value = value[state]\n",
        "            new_value = 0\n",
        "            \n",
        "            for action in actions[state]:\n",
        "                if action == 'U':\n",
        "                    next_action = [state[0]+1, state[1]]\n",
        "                if action == 'D':\n",
        "                    next_action = [state[0]-1, state[1]]\n",
        "                if action == 'L':\n",
        "                    next_action = [state[0], state[1]-1]\n",
        "                if action == 'R':\n",
        "                    next_action = [state[0], state[1]+1]\n",
        "  #New Random action for transition probability\n",
        "                random_value=np.random.choice([i for i in actions[state] if i != a])\n",
        "                if random_value == 'U':\n",
        "                    new_action = [state[0]+1, state[1]]\n",
        "                if random_value == 'D':\n",
        "                    new_action = [state[0]-1, state[1]]\n",
        "                if random_value == 'L':\n",
        "                    new_action = [state[0], state[1]-1]\n",
        "                if random_value == 'R':\n",
        "                    new_action = [state[0], state[1]+1]\n",
        "\n",
        "                #Calculate the value\n",
        "                next_action = tuple(next_action)\n",
        "                new_action = tuple(new_action)\n",
        "                v = rewards[state] + (gamma * ((1-noise)* value[next_action] + (noise * value[new_action]))) \n",
        "                if v > new_value: #Is this the best action so far? If so, keep it\n",
        "                    new_value = v\n",
        "                    policy[state] = a\n",
        "\n",
        "       #Save the best of all actions for the state                                 \n",
        "            value[state] = new_value\n",
        "            change = max(change, np.abs(previous_value - value[state]))\n",
        "         \n",
        "   #See if the loop should stop now         \n",
        "    if change < small_enough:\n",
        "        break\n",
        "    iteration += 1\n",
        "\n",
        "              \n"
      ]
    },
    {
      "cell_type": "code",
      "execution_count": null,
      "metadata": {
        "colab": {
          "base_uri": "https://localhost:8080/"
        },
        "id": "vPYtoYsAwCoM",
        "outputId": "7205d6c5-febb-4bc0-ea34-e6862a284f1f"
      },
      "outputs": [
        {
          "data": {
            "text/plain": [
              "{(0, 0): 0,\n",
              " (0, 1): 1.1990956936878567,\n",
              " (0, 2): 2.694130196788024,\n",
              " (0, 3): 4.4245963237346135,\n",
              " (1, 0): 0,\n",
              " (1, 1): 0.15580837300386752,\n",
              " (1, 2): 1.4236294967377492,\n",
              " (1, 3): 2.6902272223374517,\n",
              " (2, 0): 0,\n",
              " (2, 1): 0,\n",
              " (2, 2): 0,\n",
              " (2, 3): 1.1790840500933362,\n",
              " (3, 0): 0,\n",
              " (3, 1): 0,\n",
              " (3, 2): 0,\n",
              " (3, 3): 0}"
            ]
          },
          "execution_count": 48,
          "metadata": {},
          "output_type": "execute_result"
        }
      ],
      "source": [
        "value"
      ]
    },
    {
      "cell_type": "markdown",
      "metadata": {
        "id": "FIgRT4a5tyMg"
      },
      "source": [
        "**b. Check the convergence of the algorithm (how many iterations?)**"
      ]
    },
    {
      "cell_type": "code",
      "execution_count": null,
      "metadata": {
        "colab": {
          "base_uri": "https://localhost:8080/"
        },
        "id": "QUpcDnEex5hC",
        "outputId": "89f6ad68-754d-4f40-8a5b-234b8d6c9757"
      },
      "outputs": [
        {
          "name": "stdout",
          "output_type": "stream",
          "text": [
            "Number of iteration: 1218\n"
          ]
        }
      ],
      "source": [
        "print(\"Number of iteration:\", iteration)"
      ]
    },
    {
      "cell_type": "markdown",
      "metadata": {
        "id": "dIXP7j-Pt744"
      },
      "source": [
        "**c.Modify the state transition probability matrix by applying uniform random policy (0.25 for all\n",
        "four actions)**"
      ]
    },
    {
      "cell_type": "code",
      "execution_count": 1,
      "metadata": {
        "id": "Acmo299X-drc"
      },
      "outputs": [],
      "source": [
        "import numpy as np\n",
        "import random as rm"
      ]
    },
    {
      "cell_type": "code",
      "execution_count": null,
      "metadata": {
        "id": "uS_u3BjGvj8j"
      },
      "outputs": [],
      "source": [
        "# The statespace\n",
        "states = all_states\n",
        "\n",
        "# Probabilities matrix (transition matrix)\n",
        "transitionMatrix = [[0.7,0.1,0.2],[0.2,0.7,0.1],[0.1,0.7,0.2],[0.1,0.2,0.7]]\n",
        "\n",
        "random_probvalue=0.25"
      ]
    }
  ],
  "metadata": {
    "colab": {
      "provenance": []
    },
    "kernelspec": {
      "display_name": "Python 3",
      "name": "python3"
    },
    "language_info": {
      "name": "python"
    }
  },
  "nbformat": 4,
  "nbformat_minor": 0
}
