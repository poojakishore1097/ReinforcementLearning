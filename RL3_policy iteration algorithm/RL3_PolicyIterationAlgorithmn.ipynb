{
  "cells": [
    {
      "attachments": {},
      "cell_type": "markdown",
      "metadata": {
        "id": "9BpeuiXGJxVv"
      },
      "source": [
        "Implementation of policy iteration algorithm"
      ]
    },
    {
      "cell_type": "markdown",
      "metadata": {
        "id": "jWkwrGZ3xB-W"
      },
      "source": [
        "Consider a 4 x 4 grid as shown in Figure 1. Start state S is located at the bottom left, and the target\n",
        "state T is at the bottom right and top right with a reward of +2 and –2, respectively. All other states\n",
        "have a reward of -1. Possible actions of MDP are to move left, right, up, or down. Assume the\n",
        "environment is stochastic. The transition probabilities are shown in Figure 1.\n",
        "a. Implement policy iteration algorithm to find the optimal policy\n",
        "b. Check the convergence of the algorithm (how many iterations?)\n",
        "c. Modify the state transition probability matrix by applying uniform random policy (0.25 for all\n",
        "four actions)\n",
        "\n",
        "a. Implement policy iteration algorithm to find the optimal policy  \n",
        "b. Check the convergence of the algorithm (how many iterations?)  \n",
        "c. Modify the state transition probability matrix by applying uniform random policy (0.25 for all\n",
        "four actions)  \n"
      ]
    },
    {
      "cell_type": "markdown",
      "metadata": {
        "id": "rIhV_Ol4xP1y"
      },
      "source": [
        "![Capture2.PNG](data:image/png;base64,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)"
      ]
    },
    {
      "cell_type": "markdown",
      "metadata": {
        "id": "hf6dIcEuxjQ8"
      },
      "source": [
        "**Import Libraries**"
      ]
    },
    {
      "cell_type": "code",
      "execution_count": 43,
      "metadata": {
        "id": "1PlvkaVuxfcn"
      },
      "outputs": [],
      "source": [
        "import numpy as np"
      ]
    },
    {
      "cell_type": "markdown",
      "metadata": {
        "id": "8AjtyFCQxpw9"
      },
      "source": [
        "**Initial**"
      ]
    },
    {
      "cell_type": "markdown",
      "metadata": {
        "id": "f-AHyyHr1Gbg"
      },
      "source": [
        "**c. Modify the state transition probability matrix by applying uniform random policy (0.25 for all four actions)**"
      ]
    },
    {
      "cell_type": "code",
      "execution_count": 44,
      "metadata": {
        "id": "WdCOYEEzxnUD"
      },
      "outputs": [],
      "source": [
        "small_enough = 0.005\n",
        "gamma = 0.9         \n",
        "noise = 0.1  \n",
        "#Define all states\n",
        "all_states=[]\n",
        "for i in range(4):\n",
        "    for j in range(4):\n",
        "            all_states.append((i,j))"
      ]
    },
    {
      "cell_type": "code",
      "execution_count": 45,
      "metadata": {
        "colab": {
          "base_uri": "https://localhost:8080/"
        },
        "id": "C6rUaPcyxwAA",
        "outputId": "7fae101b-57ad-4e7b-9d3b-bcc0215026f1"
      },
      "outputs": [
        {
          "data": {
            "text/plain": [
              "[(0, 0),\n",
              " (0, 1),\n",
              " (0, 2),\n",
              " (0, 3),\n",
              " (1, 0),\n",
              " (1, 1),\n",
              " (1, 2),\n",
              " (1, 3),\n",
              " (2, 0),\n",
              " (2, 1),\n",
              " (2, 2),\n",
              " (2, 3),\n",
              " (3, 0),\n",
              " (3, 1),\n",
              " (3, 2),\n",
              " (3, 3)]"
            ]
          },
          "execution_count": 45,
          "metadata": {},
          "output_type": "execute_result"
        }
      ],
      "source": [
        "all_states"
      ]
    },
    {
      "cell_type": "code",
      "execution_count": 46,
      "metadata": {
        "id": "FP9KZ3pYyt7w"
      },
      "outputs": [],
      "source": [
        "#Rewards for each\n",
        "rewards = {}\n",
        "for state in all_states:\n",
        "    if state == (0,3):\n",
        "        rewards[state] = +2\n",
        "    elif state == (3,3):\n",
        "        rewards[state] = -2\n",
        "    elif state == (2,2):\n",
        "        rewards[state] = 0\n",
        "    else:\n",
        "        rewards[state] =-1\n"
      ]
    },
    {
      "cell_type": "code",
      "execution_count": 47,
      "metadata": {
        "colab": {
          "base_uri": "https://localhost:8080/"
        },
        "id": "3JeTlHb5yuDS",
        "outputId": "2313f3c3-1cf5-4251-a2d2-32fc000847cb"
      },
      "outputs": [
        {
          "data": {
            "text/plain": [
              "{(0, 0): -1,\n",
              " (0, 1): -1,\n",
              " (0, 2): -1,\n",
              " (0, 3): 2,\n",
              " (1, 0): -1,\n",
              " (1, 1): -1,\n",
              " (1, 2): -1,\n",
              " (1, 3): -1,\n",
              " (2, 0): -1,\n",
              " (2, 1): -1,\n",
              " (2, 2): 0,\n",
              " (2, 3): -1,\n",
              " (3, 0): -1,\n",
              " (3, 1): -1,\n",
              " (3, 2): -1,\n",
              " (3, 3): -2}"
            ]
          },
          "execution_count": 47,
          "metadata": {},
          "output_type": "execute_result"
        }
      ],
      "source": [
        "rewards"
      ]
    },
    {
      "cell_type": "code",
      "execution_count": 48,
      "metadata": {
        "id": "qGbu8yXcy4jx"
      },
      "outputs": [],
      "source": [
        "#Possible actions\n",
        "actions = {\n",
        "    (0,0):('U', 'R'), \n",
        "    (0,1):('U', 'R', 'L'),    \n",
        "    (0,2):('U', 'L', 'R'),\n",
        "    (0,3):('U', 'L'),\n",
        "    (1,0):('D', 'U', 'R'),\n",
        "    (1,1):('D', 'R', 'L', 'U'),\n",
        "    (1,2):('D', 'L', 'R'),\n",
        "    (1,3):('U', 'L', 'D'),\n",
        "    (2,0):('U', 'D', 'R'),\n",
        "    (2,1):('U', 'D', 'L'),\n",
        "    (2,3):('U', 'D'),\n",
        "    (3,0):('D', 'R'),\n",
        "    (3,1):('L', 'D', 'R'),\n",
        "    (3,2):('L', 'R'),\n",
        "    (3,3):('D', 'L'),\n",
        "    }"
      ]
    },
    {
      "cell_type": "code",
      "execution_count": 49,
      "metadata": {
        "colab": {
          "base_uri": "https://localhost:8080/"
        },
        "id": "5yVvEa7ey7Ml",
        "outputId": "7e785310-de69-467d-8e58-6b62187c8a8f"
      },
      "outputs": [
        {
          "data": {
            "text/plain": [
              "{(0, 0): ('U', 'R'),\n",
              " (0, 1): ('U', 'R', 'L'),\n",
              " (0, 2): ('U', 'L', 'R'),\n",
              " (0, 3): ('U', 'L'),\n",
              " (1, 0): ('D', 'U', 'R'),\n",
              " (1, 1): ('D', 'R', 'L', 'U'),\n",
              " (1, 2): ('D', 'L', 'R'),\n",
              " (1, 3): ('U', 'L', 'D'),\n",
              " (2, 0): ('U', 'D', 'R'),\n",
              " (2, 1): ('U', 'D', 'L'),\n",
              " (2, 3): ('U', 'D'),\n",
              " (3, 0): ('D', 'R'),\n",
              " (3, 1): ('L', 'D', 'R'),\n",
              " (3, 2): ('L', 'R'),\n",
              " (3, 3): ('D', 'L')}"
            ]
          },
          "execution_count": 49,
          "metadata": {},
          "output_type": "execute_result"
        }
      ],
      "source": [
        "actions"
      ]
    },
    {
      "cell_type": "code",
      "execution_count": 50,
      "metadata": {
        "id": "97ygF1a9zADS"
      },
      "outputs": [],
      "source": [
        "#initial policy\n",
        "policy={}\n",
        "for action in actions.keys():\n",
        "    policy[action] = np.random.choice(actions[action])"
      ]
    },
    {
      "cell_type": "code",
      "execution_count": 51,
      "metadata": {
        "colab": {
          "base_uri": "https://localhost:8080/"
        },
        "id": "wiix4WSnzAGL",
        "outputId": "321f25a1-9f92-495c-9440-0dde7ecf2539"
      },
      "outputs": [
        {
          "data": {
            "text/plain": [
              "{(0, 0): 'U',\n",
              " (0, 1): 'L',\n",
              " (0, 2): 'U',\n",
              " (0, 3): 'L',\n",
              " (1, 0): 'R',\n",
              " (1, 1): 'R',\n",
              " (1, 2): 'R',\n",
              " (1, 3): 'U',\n",
              " (2, 0): 'R',\n",
              " (2, 1): 'U',\n",
              " (2, 3): 'U',\n",
              " (3, 0): 'D',\n",
              " (3, 1): 'R',\n",
              " (3, 2): 'L',\n",
              " (3, 3): 'D'}"
            ]
          },
          "execution_count": 51,
          "metadata": {},
          "output_type": "execute_result"
        }
      ],
      "source": [
        "policy"
      ]
    },
    {
      "cell_type": "code",
      "execution_count": 52,
      "metadata": {
        "id": "9GTu1kfzzAJz"
      },
      "outputs": [],
      "source": [
        "#Define initial value function \n",
        "value={}\n",
        "for state in all_states:\n",
        "    if state in actions.keys():\n",
        "        value[state] = -1\n",
        "    if state ==(0,3):\n",
        "        value[state]= +2\n",
        "    if state == (2,2):\n",
        "       value[state]= 0    \n",
        "    if state == (3,3):\n",
        "        value[state]=-2\n",
        "    "
      ]
    },
    {
      "cell_type": "code",
      "execution_count": 53,
      "metadata": {
        "colab": {
          "base_uri": "https://localhost:8080/"
        },
        "id": "SMJ5gXsEzGQ0",
        "outputId": "61ad0540-9d4e-48ec-ed17-599f7abdc060"
      },
      "outputs": [
        {
          "data": {
            "text/plain": [
              "{(0, 0): -1,\n",
              " (0, 1): -1,\n",
              " (0, 2): -1,\n",
              " (0, 3): 2,\n",
              " (1, 0): -1,\n",
              " (1, 1): -1,\n",
              " (1, 2): -1,\n",
              " (1, 3): -1,\n",
              " (2, 0): -1,\n",
              " (2, 1): -1,\n",
              " (2, 2): 0,\n",
              " (2, 3): -1,\n",
              " (3, 0): -1,\n",
              " (3, 1): -1,\n",
              " (3, 2): -1,\n",
              " (3, 3): -2}"
            ]
          },
          "execution_count": 53,
          "metadata": {},
          "output_type": "execute_result"
        }
      ],
      "source": [
        "value"
      ]
    },
    {
      "cell_type": "markdown",
      "metadata": {
        "id": "382jwDLY1R8v"
      },
      "source": [
        "**a. Implement policy iteration algorithm to find the optimal policy**"
      ]
    },
    {
      "cell_type": "code",
      "execution_count": 54,
      "metadata": {
        "id": "q7jwAW4hzGUW"
      },
      "outputs": [],
      "source": [
        "iteration = 0\n",
        "while True:\n",
        "    biggest_change = 0\n",
        "    for s in all_states:\n",
        "        if s in policy:\n",
        "\n",
        "            old_v = value[s]\n",
        "            new_v = 0\n",
        "\n",
        "            for a in actions[s]:\n",
        "                if a == 'U':\n",
        "                    nxt = [s[0]+1, s[1]]\n",
        "                if a == 'D':\n",
        "                    nxt = [s[0]-1, s[1]]\n",
        "                if a == 'L':\n",
        "                    nxt = [s[0], s[1]-1]\n",
        "                if a == 'R':\n",
        "                    nxt = [s[0], s[1]+1]\n",
        "\n",
        "          \n",
        "                random_1=np.random.choice([i for i in actions[s] if i != a])\n",
        "                if random_1 == 'U':\n",
        "                    act = [s[0]+1, s[1]]\n",
        "                if random_1 == 'D':\n",
        "                    act = [s[0]-1, s[1]]\n",
        "                if random_1 == 'L':\n",
        "                    act = [s[0], s[1]-1]\n",
        "                if random_1 == 'R':\n",
        "                    act = [s[0], s[1]+1]\n",
        "\n",
        "              \n",
        "                nxt = tuple(nxt)\n",
        "                act = tuple(act)\n",
        "                v = rewards[s] + (gamma * ((1-noise)* value[nxt] + (noise * value[act])))\n",
        "                if v > new_v: \n",
        "                    new_v = v\n",
        "                    policy[s] = a\n",
        "\n",
        "   \n",
        "            value[s] = new_v\n",
        "            biggest_change = max(biggest_change, np.abs(old_v - value[s]))\n",
        "\n",
        "  \n",
        "    if biggest_change < small_enough:\n",
        "        break\n",
        "    iteration += 1"
      ]
    },
    {
      "cell_type": "code",
      "execution_count": 55,
      "metadata": {
        "colab": {
          "base_uri": "https://localhost:8080/"
        },
        "id": "_6YYTo8Uz1bL",
        "outputId": "a7c1f7f2-26c7-4558-b876-702a3d46481c"
      },
      "outputs": [
        {
          "data": {
            "text/plain": [
              "{(0, 0): 0,\n",
              " (0, 1): 1.1922829246268707,\n",
              " (0, 2): 2.6945592566919907,\n",
              " (0, 3): 4.42505052465771,\n",
              " (1, 0): 0,\n",
              " (1, 1): 0.07305463216418362,\n",
              " (1, 2): 1.1891679148152892,\n",
              " (1, 3): 2.690681521629875,\n",
              " (2, 0): 0,\n",
              " (2, 1): 0,\n",
              " (2, 2): 0,\n",
              " (2, 3): 1.179452032520199,\n",
              " (3, 0): 0,\n",
              " (3, 1): 0,\n",
              " (3, 2): 0,\n",
              " (3, 3): 0}"
            ]
          },
          "execution_count": 55,
          "metadata": {},
          "output_type": "execute_result"
        }
      ],
      "source": [
        "value"
      ]
    },
    {
      "cell_type": "code",
      "execution_count": 56,
      "metadata": {
        "colab": {
          "base_uri": "https://localhost:8080/"
        },
        "id": "C30gnislz7Hf",
        "outputId": "ecaa862f-0f4b-424c-9040-c3c4e71bbc6c"
      },
      "outputs": [
        {
          "data": {
            "text/plain": [
              "{(0, 0): 'R',\n",
              " (0, 1): 'R',\n",
              " (0, 2): 'R',\n",
              " (0, 3): 'L',\n",
              " (1, 0): 'R',\n",
              " (1, 1): 'R',\n",
              " (1, 2): 'D',\n",
              " (1, 3): 'D',\n",
              " (2, 0): 'R',\n",
              " (2, 1): 'U',\n",
              " (2, 3): 'D',\n",
              " (3, 0): 'D',\n",
              " (3, 1): 'R',\n",
              " (3, 2): 'L',\n",
              " (3, 3): 'D'}"
            ]
          },
          "execution_count": 56,
          "metadata": {},
          "output_type": "execute_result"
        }
      ],
      "source": [
        "policy"
      ]
    },
    {
      "cell_type": "markdown",
      "metadata": {
        "id": "B9HgQ9sl06Fj"
      },
      "source": [
        "**b.Check the convergence of the algorithm (how many iterations?)**"
      ]
    },
    {
      "cell_type": "code",
      "execution_count": 57,
      "metadata": {
        "colab": {
          "base_uri": "https://localhost:8080/"
        },
        "id": "bMwROEX20C2Z",
        "outputId": "fb0c1b3d-a82d-42e4-f154-711d828ba2b1"
      },
      "outputs": [
        {
          "data": {
            "text/plain": [
              "880"
            ]
          },
          "execution_count": 57,
          "metadata": {},
          "output_type": "execute_result"
        }
      ],
      "source": [
        "iteration"
      ]
    },
    {
      "cell_type": "code",
      "execution_count": null,
      "metadata": {
        "id": "dJ-BQmvo3_JK"
      },
      "outputs": [],
      "source": []
    }
  ],
  "metadata": {
    "colab": {
      "collapsed_sections": [],
      "provenance": []
    },
    "kernelspec": {
      "display_name": "Python 3",
      "name": "python3"
    },
    "language_info": {
      "name": "python"
    }
  },
  "nbformat": 4,
  "nbformat_minor": 0
}
